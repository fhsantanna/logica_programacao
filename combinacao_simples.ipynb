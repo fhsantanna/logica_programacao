{
 "cells": [
  {
   "cell_type": "markdown",
   "metadata": {},
   "source": [
    "# combinação simples"
   ]
  },
  {
   "cell_type": "code",
   "execution_count": 38,
   "metadata": {},
   "outputs": [],
   "source": [
    "lista = [\"A\", \"B\", \"C\", \"D\", \"E\"]"
   ]
  },
  {
   "cell_type": "code",
   "execution_count": 39,
   "metadata": {},
   "outputs": [],
   "source": [
    "#printa item 1 printa item 2\n",
    "#printa item 1 printa item 3\n",
    "\n",
    "#printa item 2 printa item 3"
   ]
  },
  {
   "cell_type": "code",
   "execution_count": 42,
   "metadata": {},
   "outputs": [
    {
     "name": "stdout",
     "output_type": "stream",
     "text": [
      "A B\n",
      "A C\n",
      "A D\n",
      "A E\n",
      "B C\n",
      "B D\n",
      "B E\n",
      "C D\n",
      "C E\n",
      "D E\n"
     ]
    }
   ],
   "source": [
    "counter_pos1 = 0\n",
    "\n",
    "while counter_pos1 < len(lista):\n",
    "    counter_pos2 = counter_pos1 + 1\n",
    "    while counter_pos2 < len(lista):\n",
    "        print(lista[counter_pos1] + \" \" + lista[counter_pos2])\n",
    "        counter_pos2 += 1\n",
    "    counter_pos1 += 1\n",
    "    "
   ]
  },
  {
   "cell_type": "code",
   "execution_count": null,
   "metadata": {},
   "outputs": [],
   "source": []
  }
 ],
 "metadata": {
  "kernelspec": {
   "display_name": "Python 3",
   "language": "python",
   "name": "python3"
  },
  "language_info": {
   "codemirror_mode": {
    "name": "ipython",
    "version": 3
   },
   "file_extension": ".py",
   "mimetype": "text/x-python",
   "name": "python",
   "nbconvert_exporter": "python",
   "pygments_lexer": "ipython3",
   "version": "3.6.7"
  }
 },
 "nbformat": 4,
 "nbformat_minor": 4
}
